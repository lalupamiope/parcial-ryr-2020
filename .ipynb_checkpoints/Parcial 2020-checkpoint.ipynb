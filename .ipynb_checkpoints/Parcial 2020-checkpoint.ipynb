{
 "cells": [
  {
   "cell_type": "markdown",
   "metadata": {},
   "source": [
    "## Problema 1\n",
    "\n",
    "Se tienen en un Laboratorio varias fuentes patrón de distintos radionucleidos, utilizadas para calibrar los sistemas de detección. Estas fuentes fueron entregadas al Laboratorio con los siguientes datos:\n",
    "\n",
    "- Fecha de calibración: 1/3/2015\n",
    "- Forma física: sólida\n",
    "- Actividad de cada fuente a la fecha de entrega: 10 mCi\n",
    "- Fuentes: Cs-137 / Co-57 / Co-60 / Am-241 / Eu-152 / I-131 / Fe-59 / Na-22\n",
    "\n",
    "Se pide:\n",
    "\n",
    "### a. Mencionar las emisiones de los radionucleidos que le correspondan (ver formulario)\n",
    "\n",
    "**¿qué formulario?**"
   ]
  },
  {
   "cell_type": "markdown",
   "metadata": {},
   "source": [
    "![Cs-137](imagenes/cs-137-b.png)"
   ]
  },
  {
   "cell_type": "markdown",
   "metadata": {},
   "source": [
    "El Cs-137 emite partículas beta (y fotones). La emision principal es el $\\beta^{-1}$ por su frecuencia de emisión (0.946) y el fotón de 661.6 keV (**que no figura en la tabla**). **¿Qué diferencia hay entre la parte a y b?**"
   ]
  },
  {
   "cell_type": "markdown",
   "metadata": {},
   "source": [
    "### b. Realizar el diagrama de niveles de energía con las principales emisiones, señalando el núcleo madre e hija(s), el valor energético de cada nivel, el tipo de emisiones y su probabilidad, en todos los casos. Justificar el criterio de elección de las emisiones que se consignan en los diagramas."
   ]
  },
  {
   "cell_type": "markdown",
   "metadata": {},
   "source": [
    "- Núcleo madre: Cs-137. Valor energético: 661.6 keV. (**¿qué valor energético corresponde al Cs-137 antes de emitir la partícula beta?**)\n",
    "- Núcleo hijo: Ba-137 (estable). **Valor energético: ¿?**\n",
    "\n",
    "Emisiones:\n",
    "\n",
    "- partículas beta de 173.4 keV. Probabilidad de emisión: 0.946 (94.6%)\n",
    "- partículas beta de 424.6 keV. Probabilidad de emisión: 0.054 (5.4%)\n",
    "\n",
    "**Me parece que la consigna podría decir**:\n",
    "\n",
    "*\"Revisar las tablas y/o diagramas con las emisiones del RN (**¿sólo del libro?**). Identificar las más importantes (**¿máximo = 5?**). Realizar con ellas un diagrama de niveles de energía con las principales emisiones, señalando el núcleo madre e hija(s), el valor energético de cada nivel, el tipo de emisiones y su probabilidad, en todos los casos. Justificar el criterio de elección de las emisiones que se consignan en los diagramas.\"*"
   ]
  },
  {
   "cell_type": "markdown",
   "metadata": {},
   "source": [
    "### c. ¿Cuál será la actividad total del conjunto de fuentes el 1/3/2020?"
   ]
  },
  {
   "cell_type": "code",
   "execution_count": 2,
   "metadata": {},
   "outputs": [],
   "source": [
    "import numpy as np\n",
    "\n",
    "from pint import UnitRegistry\n",
    "u = UnitRegistry()\n",
    "# u.load_definitions('./mis-defs.txt') \n",
    "\n",
    "import matplotlib.pyplot as plt\n",
    "\n",
    "# %matplotlib inline"
   ]
  },
  {
   "cell_type": "code",
   "execution_count": 11,
   "metadata": {},
   "outputs": [],
   "source": [
    "def a(a0, semiperiodo, t):\n",
    "    '''Cálculo del decaimiento de la actividad'''\n",
    "    lmbda = np.log(2)/semiperiodo\n",
    "    return a0 * np.exp(- lmbda * t)"
   ]
  },
  {
   "cell_type": "code",
   "execution_count": 14,
   "metadata": {},
   "outputs": [
    {
     "name": "stdout",
     "output_type": "stream",
     "text": [
      "8.91 millicurie\n"
     ]
    }
   ],
   "source": [
    "A0_Cs137 = 10 * u('mCi')\n",
    "t = 5 * u('years')\n",
    "tmedio_Cs137 = 30 * u('years')\n",
    "afinal_Cs137 = a(A0_Cs137, tmedio_Cs137, t)\n",
    "print(afinal_Cs137.round(2))"
   ]
  },
  {
   "cell_type": "markdown",
   "metadata": {},
   "source": [
    "### d. Realice una gráfica donde pueda verse la evolución temporal de cada fuente, y la actividad total, entre el 1/3/2015 y el 1/3/2020"
   ]
  },
  {
   "cell_type": "markdown",
   "metadata": {},
   "source": [
    "El Cs en 5 años no decae mucho. Para ver la exponencial hay que mirar un período de tiempo como mínimo de 3 o 4 semiperíodos..."
   ]
  },
  {
   "cell_type": "code",
   "execution_count": 19,
   "metadata": {},
   "outputs": [
    {
     "name": "stderr",
     "output_type": "stream",
     "text": [
      "/home/diego/.pyenv/versions/3.6.5/envs/jupyter/lib/python3.6/site-packages/pint/quantity.py:1377: UnitStrippedWarning: The unit of the quantity is stripped.\n",
      "  warnings.warn(\"The unit of the quantity is stripped.\", UnitStrippedWarning)\n"
     ]
    },
    {
     "data": {
      "image/png": "[encoded data removed]",
      "text/plain": [
       "<Figure size 432x288 with 1 Axes>"
      ]
     },
     "metadata": {},
     "output_type": "display_data"
    }
   ],
   "source": [
    "# Datos\n",
    "t = np.arange(0.0, 5.0, 0.1) * u('years')\n",
    "s = a(A0_Cs137, tmedio_Cs137, t)\n",
    "\n",
    "fig, ax = plt.subplots()\n",
    "ax.plot(t, s)\n",
    "\n",
    "# ax.set(xlabel='time (s)', ylabel='actividad (Ci)', title='Gráfica sencilla')\n",
    "# ax.grid()\n",
    "\n",
    "plt.show()"
   ]
  },
  {
   "cell_type": "markdown",
   "metadata": {},
   "source": [
    "### Se tiene una serie de materiales absorbentes, y se desea estudiar la interacción de estos materiales con algunos radionucleidos. Hay tres láminas de cada material, de tres espesores diferentes: 1 mm, 5 mm y 20 mm. Los materiales son: cartón / cobre / aluminio / acrílico / plomo / INa(Tl)\n",
    "\n",
    "### e. Calcule la intensidad que llega al punto P, para cada combinación pedida material / espesor (x) / fuente / distancia (d):"
   ]
  },
  {
   "cell_type": "markdown",
   "metadata": {},
   "source": [
    "![Cs-137](imagenes/fuente-absorbente.png)"
   ]
  },
  {
   "cell_type": "code",
   "execution_count": 30,
   "metadata": {},
   "outputs": [],
   "source": [
    "def I(I0, mu, x):\n",
    "    '''Cálculo de la intensidad cuando se interpone un absorbente'''\n",
    "    return I0 * np.exp(-mu * x)"
   ]
  },
  {
   "cell_type": "markdown",
   "metadata": {},
   "source": [
    "### Combinación 1\n",
    "\n",
    "- Fuente: Cs-137 (E = 661 keV)\n",
    "- Absorbente: Plomo.\n",
    "- d = 10 cm."
   ]
  },
  {
   "cell_type": "markdown",
   "metadata": {},
   "source": [
    "Datos del coeficiente de atenuación másico extraidos de https://www.nist.gov/pml/x-ray-mass-attenuation-coefficients.\n",
    "    \n",
    "| Energía $MeV$ | Coeficiente $cm^2/g$ |\n",
    "| --- | --- |\n",
    "| 6.00000E-01 | 1.248E-01 |\n",
    "| 8.00000E-01 | 8.870E-02 |"
   ]
  },
  {
   "cell_type": "code",
   "execution_count": 32,
   "metadata": {},
   "outputs": [],
   "source": [
    "def y(x1, y1, x2, y2, x):\n",
    "    '''Interpolación lineal'''\n",
    "    k = y2 - y1 / (x2 - x1)\n",
    "    return y1 + k * (x-x1)"
   ]
  },
  {
   "cell_type": "markdown",
   "metadata": {},
   "source": [
    "### Cálculo del coeficiente de atenuación másico (mediante interpolación lineal)"
   ]
  },
  {
   "cell_type": "code",
   "execution_count": 33,
   "metadata": {},
   "outputs": [
    {
     "data": {
      "text/plain": [
       "0.09214669999999997"
      ]
     },
     "execution_count": 33,
     "metadata": {},
     "output_type": "execute_result"
    }
   ],
   "source": [
    "x1 = 6e-1\n",
    "y1 = 1.248e-1\n",
    "\n",
    "x2 = 8e-1\n",
    "y2 = 8.870e-2\n",
    "\n",
    "x = 6.61e-1\n",
    "coef1 = y(x1, y1, x2, y2, x)\n",
    "coef1"
   ]
  },
  {
   "cell_type": "markdown",
   "metadata": {},
   "source": [
    "Falta calcular la intensidad inicial (I0)"
   ]
  },
  {
   "cell_type": "code",
   "execution_count": null,
   "metadata": {},
   "outputs": [],
   "source": []
  }
 ],
 "metadata": {
  "kernelspec": {
   "display_name": "Python 3",
   "language": "python",
   "name": "python3"
  },
  "language_info": {
   "codemirror_mode": {
    "name": "ipython",
    "version": 3
   },
   "file_extension": ".py",
   "mimetype": "text/x-python",
   "name": "python",
   "nbconvert_exporter": "python",
   "pygments_lexer": "ipython3",
   "version": "3.6.5"
  }
 },
 "nbformat": 4,
 "nbformat_minor": 2
}
